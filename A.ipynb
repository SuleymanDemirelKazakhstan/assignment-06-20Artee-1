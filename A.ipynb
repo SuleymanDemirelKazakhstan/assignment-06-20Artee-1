{
 "cells": [
  {
   "cell_type": "code",
   "execution_count": 21,
   "metadata": {},
   "outputs": [],
   "source": [
    "import spacy\n",
    "import wikipedia\n",
    "\n",
    "nlp = spacy.load(\"en_core_web_sm\")\n",
    "\n",
    "text = \"Polls had predicted Bolsonaro's performance to be lower ahead of the first round, but they were, within the margin of error, accurate in the percentage of votes that Lula da Silva could receive. Now, in this final stage of a deeply polarized contest, some of the research institutes that conduct these polls are drawing attention to the choices being made by women voters.\""
   ]
  },
  {
   "cell_type": "code",
   "execution_count": 22,
   "metadata": {},
   "outputs": [
    {
     "name": "stdout",
     "output_type": "stream",
     "text": [
      "Bolsonaro ORG 20 29\n",
      "first ORDINAL 69 74\n",
      "Lula da Silva PERSON 166 179\n"
     ]
    }
   ],
   "source": [
    "textA = nlp(text)\n",
    "array = []\n",
    "\n",
    "for word in textA.ents:\n",
    "    print(word.text, word.label_, word.start_char, word.end_char)\n",
    "    if (word.label_ != \"ORDINAL\"):\n",
    "        line = word.text\n",
    "        wiki = wikipedia.page(line).url\n",
    "        tag = \"<a href=\\\"\" + wiki + \"\\\">\" + word.text \n",
    "        text = text.replace(word.text, tag)"
   ]
  },
  {
   "cell_type": "code",
   "execution_count": 23,
   "metadata": {},
   "outputs": [
    {
     "name": "stdout",
     "output_type": "stream",
     "text": [
      "Polls had predicted <a href=\"https://en.wikipedia.org/wiki/Jair_Bolsonaro\">Bolsonaro's performance to be lower ahead of the first round, but they were, within the margin of error, accurate in the percentage of votes that <a href=\"https://en.wikipedia.org/wiki/Luiz_In%C3%A1cio_Lula_da_Silva\">Lula da Silva could receive. Now, in this final stage of a deeply polarized contest, some of the research institutes that conduct these polls are drawing attention to the choices being made by women voters.\n"
     ]
    }
   ],
   "source": [
    "print(text)"
   ]
  },
  {
   "cell_type": "code",
   "execution_count": null,
   "metadata": {},
   "outputs": [],
   "source": []
  }
 ],
 "metadata": {
  "kernelspec": {
   "display_name": "Python 3.10.2 64-bit",
   "language": "python",
   "name": "python3"
  },
  "language_info": {
   "codemirror_mode": {
    "name": "ipython",
    "version": 3
   },
   "file_extension": ".py",
   "mimetype": "text/x-python",
   "name": "python",
   "nbconvert_exporter": "python",
   "pygments_lexer": "ipython3",
   "version": "3.10.2"
  },
  "orig_nbformat": 4,
  "vscode": {
   "interpreter": {
    "hash": "369f2c481f4da34e4445cda3fffd2e751bd1c4d706f27375911949ba6bb62e1c"
   }
  }
 },
 "nbformat": 4,
 "nbformat_minor": 2
}
