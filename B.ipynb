{
 "cells": [
  {
   "cell_type": "code",
   "execution_count": 31,
   "metadata": {},
   "outputs": [],
   "source": [
    "import spacy\n",
    "import pandas as pd\n",
    " \n",
    "data = pd.read_csv('data/archive.zip', compression='zip')\n",
    "nlp = spacy.load(\"en_core_web_sm\")"
   ]
  },
  {
   "cell_type": "code",
   "execution_count": 32,
   "metadata": {},
   "outputs": [
    {
     "name": "stdout",
     "output_type": "stream",
     "text": [
      "['little', 'innovative', 'boring', 'amazing', 'big', 'surreal', 'likable', 'good', 'similar', 'average', 'interesting', 'white', 'nice', 'watchable', 'present', 'preachy', 'sincere', 'black', 'Bad', 'next', 'least', 'old', 'best', 'hot', 'meaningless', 'most', 'same', 'faint', 'divorcing', 'slower', 'wonderful', 'brilliant', 'mannered', 'fit', 'light', 'startling', 'great', 'traditional', 'timid', 'other', 'ready', 'complete', 'worth', 'own', 'experimental', 'kid', 'classic', 'less', 'Irish', 'simplistic', 'original', 'fresh', 'hard', 'worst', 'crooked', 'luxurious', 'different', 'many', 'more', 'first', '/>The', 'believable', 'disgraceful', 'wittier', 'vivid', 'flat', 'such', 'only', 'lame', 'uncomfortable', 'young', 'middle', 'witty', 'cheap', 'huge', 'accustomed', 'pretty', 'noble', 'high', 'well', 'sophisticated', 'positive', 'graphic', 'serial', 'happy', 'shady', 'real', 'last', 'bad', 'due', 'talented', 'hardcore', 'comfortable', 'darker', 'previous', 'sexy', 'slow', 'masterful', 'favorite', 'entertaining', 'main', 'entire', 'funny', 'spirited', 'solid', 'ole', 'hearted', 'seamless', 'new', 'awful', 'right', 'stunning', 'nasty', 'unassuming-', 'few', 'sympathetic', 'human']\n"
     ]
    }
   ],
   "source": [
    "adjective = []\n",
    "for num in range(10):\n",
    "    raw_text = nlp(data['review'][num])\n",
    "    for token in raw_text:\n",
    "        if(token.pos_ == 'ADJ'):\n",
    "            adjective.append(token.text)\n",
    "adjective = set(adjective)\n",
    "adjective = list(adjective)\n",
    "print(adjective)"
   ]
  },
  {
   "cell_type": "code",
   "execution_count": 33,
   "metadata": {},
   "outputs": [],
   "source": [
    "positive = []\n",
    "negative = []\n",
    "\n",
    "for words in adjective:\n",
    "    numOfPositive = 0\n",
    "    numOfNegative = 0\n",
    "    for num in range(100):\n",
    "        raw_text = data['review'][num]\n",
    "        arr = raw_text.split(\" \")\n",
    "        for number in range(len(arr)):\n",
    "            if(words == arr[number]):\n",
    "                if(data['sentiment'][num] == 'positive'):\n",
    "                    numOfPositive += 1\n",
    "                else:\n",
    "                    numOfNegative += 1\n",
    "    positive.append(numOfPositive)\n",
    "    negative.append(numOfNegative)"
   ]
  },
  {
   "cell_type": "code",
   "execution_count": 34,
   "metadata": {},
   "outputs": [
    {
     "name": "stdout",
     "output_type": "stream",
     "text": [
      "            word  positive  negative\n",
      "0         little        12        11\n",
      "1     innovative         1         1\n",
      "2         boring         0         2\n",
      "3        amazing         3         0\n",
      "4            big         7         4\n",
      "..           ...       ...       ...\n",
      "112        nasty         2         2\n",
      "113  unassuming-         1         0\n",
      "114          few         6         9\n",
      "115  sympathetic         2         1\n",
      "116        human         4         0\n",
      "\n",
      "[117 rows x 3 columns]\n"
     ]
    }
   ],
   "source": [
    "Inf = []\n",
    "for i in range(len(adjective)):\n",
    "    data2 = []\n",
    "    data2.append(adjective[i])\n",
    "    data2.append(positive[i])\n",
    "    data2.append(negative[i])\n",
    "    Inf.append(data2)\n",
    "\n",
    "df = pd.DataFrame(Inf, columns=['word','positive','negative'])\n",
    "print(df)"
   ]
  }
 ],
 "metadata": {
  "kernelspec": {
   "display_name": "Python 3.10.8 64-bit (microsoft store)",
   "language": "python",
   "name": "python3"
  },
  "language_info": {
   "codemirror_mode": {
    "name": "ipython",
    "version": 3
   },
   "file_extension": ".py",
   "mimetype": "text/x-python",
   "name": "python",
   "nbconvert_exporter": "python",
   "pygments_lexer": "ipython3",
   "version": "3.10.8"
  },
  "orig_nbformat": 4,
  "vscode": {
   "interpreter": {
    "hash": "ede87896682d837b6cc05e8dd66c3fe864ced8cde933c130185ab98b3129427f"
   }
  }
 },
 "nbformat": 4,
 "nbformat_minor": 2
}
